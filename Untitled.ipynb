{
 "cells": [
  {
   "cell_type": "code",
   "execution_count": 58,
   "id": "3b6eb492",
   "metadata": {},
   "outputs": [],
   "source": [
    "from sklearn.ensemble import RandomForestClassifier\n",
    "from sklearn.model_selection import train_test_split\n",
    "from sklearn.metrics import accuracy_score\n",
    "import pandas as pd\n",
    "import pickle\n",
    "import joblib"
   ]
  },
  {
   "cell_type": "code",
   "execution_count": null,
   "id": "ebe50e4a",
   "metadata": {},
   "outputs": [],
   "source": [
    "\n",
    "# JSON 파일 경로\n",
    "json_file_path = './user_data.json'\n",
    "\n",
    "# JSON 파일을 DataFrame으로 읽기\n",
    "df = pd.read_json(json_file_path)\n",
    "\n",
    "# DataFrame을 CSV 파일로 저장\n",
    "csv_file_path = './user_data.csv'\n",
    "df.to_csv(csv_file_path, index=False)  # index=False를 사용하여 인덱스를 저장하지 않습니다.\n",
    "\n",
    "print(f'CSV 파일이 생성되었습니다: {csv_file_path}')\n"
   ]
  },
  {
   "cell_type": "code",
   "execution_count": 20,
   "id": "7cbe4728",
   "metadata": {
    "scrolled": true
   },
   "outputs": [
    {
     "data": {
      "text/html": [
       "<div>\n",
       "<style scoped>\n",
       "    .dataframe tbody tr th:only-of-type {\n",
       "        vertical-align: middle;\n",
       "    }\n",
       "\n",
       "    .dataframe tbody tr th {\n",
       "        vertical-align: top;\n",
       "    }\n",
       "\n",
       "    .dataframe thead th {\n",
       "        text-align: right;\n",
       "    }\n",
       "</style>\n",
       "<table border=\"1\" class=\"dataframe\">\n",
       "  <thead>\n",
       "    <tr style=\"text-align: right;\">\n",
       "      <th></th>\n",
       "      <th>age</th>\n",
       "      <th>money</th>\n",
       "      <th>salary</th>\n",
       "      <th>financial_products</th>\n",
       "    </tr>\n",
       "  </thead>\n",
       "  <tbody>\n",
       "    <tr>\n",
       "      <th>0</th>\n",
       "      <td>84</td>\n",
       "      <td>206000000</td>\n",
       "      <td>61100000</td>\n",
       "      <td>372</td>\n",
       "    </tr>\n",
       "    <tr>\n",
       "      <th>1</th>\n",
       "      <td>94</td>\n",
       "      <td>34000000</td>\n",
       "      <td>45100000</td>\n",
       "      <td>236</td>\n",
       "    </tr>\n",
       "    <tr>\n",
       "      <th>2</th>\n",
       "      <td>8</td>\n",
       "      <td>14000000</td>\n",
       "      <td>69900000</td>\n",
       "      <td>442</td>\n",
       "    </tr>\n",
       "    <tr>\n",
       "      <th>3</th>\n",
       "      <td>91</td>\n",
       "      <td>37000000</td>\n",
       "      <td>49900000</td>\n",
       "      <td>186</td>\n",
       "    </tr>\n",
       "    <tr>\n",
       "      <th>4</th>\n",
       "      <td>66</td>\n",
       "      <td>397000000</td>\n",
       "      <td>70200000</td>\n",
       "      <td>476</td>\n",
       "    </tr>\n",
       "    <tr>\n",
       "      <th>...</th>\n",
       "      <td>...</td>\n",
       "      <td>...</td>\n",
       "      <td>...</td>\n",
       "      <td>...</td>\n",
       "    </tr>\n",
       "    <tr>\n",
       "      <th>9995</th>\n",
       "      <td>17</td>\n",
       "      <td>160000000</td>\n",
       "      <td>46700000</td>\n",
       "      <td>45</td>\n",
       "    </tr>\n",
       "    <tr>\n",
       "      <th>9996</th>\n",
       "      <td>26</td>\n",
       "      <td>492000000</td>\n",
       "      <td>68300000</td>\n",
       "      <td>60</td>\n",
       "    </tr>\n",
       "    <tr>\n",
       "      <th>9997</th>\n",
       "      <td>37</td>\n",
       "      <td>248000000</td>\n",
       "      <td>38500000</td>\n",
       "      <td>311</td>\n",
       "    </tr>\n",
       "    <tr>\n",
       "      <th>9998</th>\n",
       "      <td>93</td>\n",
       "      <td>49000000</td>\n",
       "      <td>35300000</td>\n",
       "      <td>89</td>\n",
       "    </tr>\n",
       "    <tr>\n",
       "      <th>9999</th>\n",
       "      <td>56</td>\n",
       "      <td>932000000</td>\n",
       "      <td>33800000</td>\n",
       "      <td>255</td>\n",
       "    </tr>\n",
       "  </tbody>\n",
       "</table>\n",
       "<p>10000 rows × 4 columns</p>\n",
       "</div>"
      ],
      "text/plain": [
       "      age      money    salary  financial_products\n",
       "0      84  206000000  61100000                 372\n",
       "1      94   34000000  45100000                 236\n",
       "2       8   14000000  69900000                 442\n",
       "3      91   37000000  49900000                 186\n",
       "4      66  397000000  70200000                 476\n",
       "...   ...        ...       ...                 ...\n",
       "9995   17  160000000  46700000                  45\n",
       "9996   26  492000000  68300000                  60\n",
       "9997   37  248000000  38500000                 311\n",
       "9998   93   49000000  35300000                  89\n",
       "9999   56  932000000  33800000                 255\n",
       "\n",
       "[10000 rows x 4 columns]"
      ]
     },
     "execution_count": 20,
     "metadata": {},
     "output_type": "execute_result"
    }
   ],
   "source": [
    "import chardet\n",
    "\n",
    "with open('user_data.csv', 'rb') as f:\n",
    "    result = chardet.detect(f.read())\n",
    "    encoding = result['encoding']\n",
    "\n",
    "data = pd.read_csv('user_data.csv', encoding=encoding)\n",
    "data"
   ]
  },
  {
   "cell_type": "code",
   "execution_count": 42,
   "id": "50bb3c1c",
   "metadata": {},
   "outputs": [
    {
     "name": "stdout",
     "output_type": "stream",
     "text": [
      "모델 정확도: 0.0005\n"
     ]
    }
   ],
   "source": [
    "\n",
    "X = data[['age', 'money', 'salary']]  # 특성\n",
    "y = data['financial_products']  # 타겟\n",
    "\n",
    "# 데이터를 훈련 세트와 테스트 세트로 나눔\n",
    "X_train, X_test, y_train, y_test = train_test_split(X, y, test_size=0.2)\n",
    "\n",
    "# 랜덤 포레스트 분류기 초기화\n",
    "model = RandomForestClassifier(n_estimators=100)\n",
    "\n",
    "# 모델 훈련\n",
    "model.fit(X_train, y_train)\n",
    "\n",
    "# 테스트 세트에서 예측 수행\n",
    "y_pred = model.predict(X_test)\n",
    "\n",
    "# 정확도 평가\n",
    "accuracy = accuracy_score(y_test, y_pred)\n",
    "print(f'모델 정확도: {accuracy}')\n"
   ]
  },
  {
   "cell_type": "code",
   "execution_count": 67,
   "id": "c53b6598",
   "metadata": {},
   "outputs": [
    {
     "name": "stdout",
     "output_type": "stream",
     "text": [
      "예측 결과: [155]\n"
     ]
    },
    {
     "data": {
      "text/html": [
       "<div>\n",
       "<style scoped>\n",
       "    .dataframe tbody tr th:only-of-type {\n",
       "        vertical-align: middle;\n",
       "    }\n",
       "\n",
       "    .dataframe tbody tr th {\n",
       "        vertical-align: top;\n",
       "    }\n",
       "\n",
       "    .dataframe thead th {\n",
       "        text-align: right;\n",
       "    }\n",
       "</style>\n",
       "<table border=\"1\" class=\"dataframe\">\n",
       "  <thead>\n",
       "    <tr style=\"text-align: right;\">\n",
       "      <th></th>\n",
       "      <th>age</th>\n",
       "      <th>money</th>\n",
       "      <th>salary</th>\n",
       "    </tr>\n",
       "  </thead>\n",
       "  <tbody>\n",
       "    <tr>\n",
       "      <th>0</th>\n",
       "      <td>30</td>\n",
       "      <td>5000000</td>\n",
       "      <td>60000000</td>\n",
       "    </tr>\n",
       "  </tbody>\n",
       "</table>\n",
       "</div>"
      ],
      "text/plain": [
       "   age    money    salary\n",
       "0   30  5000000  60000000"
      ]
     },
     "execution_count": 67,
     "metadata": {},
     "output_type": "execute_result"
    }
   ],
   "source": [
    "# 새로운 데이터\n",
    "new_data = pd.DataFrame({'age': [30], 'money': [5000000], 'salary': [60000000]})\n",
    "\n",
    "# 모델을 사용하여 예측\n",
    "prediction = model.predict(new_data)\n",
    "\n",
    "# 결과 출력\n",
    "print(f'예측 결과: {prediction}')\n",
    "new_data"
   ]
  },
  {
   "cell_type": "code",
   "execution_count": 60,
   "id": "228f32bd",
   "metadata": {},
   "outputs": [],
   "source": [
    "saved_model = pickle.dumps(model)"
   ]
  },
  {
   "cell_type": "code",
   "execution_count": 61,
   "id": "648ca69d",
   "metadata": {},
   "outputs": [
    {
     "data": {
      "text/plain": [
       "['mymodel.pkl']"
      ]
     },
     "execution_count": 61,
     "metadata": {},
     "output_type": "execute_result"
    }
   ],
   "source": [
    "joblib.dump(model, 'mymodel.pkl') "
   ]
  },
  {
   "cell_type": "code",
   "execution_count": 63,
   "id": "a0bea732",
   "metadata": {},
   "outputs": [],
   "source": [
    "clf_from_joblib = joblib.load('mymodel.pkl') \n"
   ]
  },
  {
   "cell_type": "code",
   "execution_count": 70,
   "id": "d8dfdca0",
   "metadata": {},
   "outputs": [
    {
     "data": {
      "text/plain": [
       "array([37], dtype=int64)"
      ]
     },
     "execution_count": 70,
     "metadata": {},
     "output_type": "execute_result"
    }
   ],
   "source": [
    "test = pd.DataFrame({'age': [40], 'money': [50000000], 'salary': [30000000]})\n",
    "a = clf_from_joblib.predict(test)\n",
    "a"
   ]
  },
  {
   "cell_type": "code",
   "execution_count": null,
   "id": "03feaede",
   "metadata": {},
   "outputs": [],
   "source": []
  },
  {
   "cell_type": "code",
   "execution_count": null,
   "id": "c3816bbe",
   "metadata": {},
   "outputs": [],
   "source": []
  }
 ],
 "metadata": {
  "kernelspec": {
   "display_name": "Python 3 (ipykernel)",
   "language": "python",
   "name": "python3"
  },
  "language_info": {
   "codemirror_mode": {
    "name": "ipython",
    "version": 3
   },
   "file_extension": ".py",
   "mimetype": "text/x-python",
   "name": "python",
   "nbconvert_exporter": "python",
   "pygments_lexer": "ipython3",
   "version": "3.11.5"
  }
 },
 "nbformat": 4,
 "nbformat_minor": 5
}
